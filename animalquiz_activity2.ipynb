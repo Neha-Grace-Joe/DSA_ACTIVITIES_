{
 "cells": [
  {
   "cell_type": "markdown",
   "id": "e5027e7b",
   "metadata": {},
   "source": [
    "# ANIMAL QUIZ"
   ]
  },
  {
   "cell_type": "code",
   "execution_count": 4,
   "id": "08d5ec97",
   "metadata": {},
   "outputs": [
    {
     "name": "stdout",
     "output_type": "stream",
     "text": [
      "GUESS THE ANIMAL.THERE ARE 3 QUESTIONS.EACH QUESTION HAS 3 CHANCES TO ANSWER.\n",
      "Which bear lives at the North Pole? polar BEAR\n",
      "Correct answer!!!!\n",
      "Which is the fastest land animal? CHEETAH\n",
      "Correct answer!!!!\n",
      "Which is the tallest animal? ELEPHANY\n",
      "Sorry.Try again giraffe\n",
      "Correct answer!!!!\n",
      "Your score is 3\n"
     ]
    }
   ],
   "source": [
    "def animalquiz(c1):\n",
    "        global score\n",
    "        if c1.lower()==A[i].lower():\n",
    "            \n",
    "            print('Correct answer!!!!')\n",
    "            score+=1\n",
    "            \n",
    "        else:\n",
    "            c2=input(\"Sorry.Try again \")\n",
    "            if c2.lower()==A[i].lower():\n",
    "                print('Correct answer!!!!')\n",
    "                score+=1   \n",
    "                \n",
    "            else:\n",
    "                    c3=input(\"Sorry.Try again \")\n",
    "                    if c3.lower()==A[i].lower():\n",
    "                        print('Correct answer!!!!')\n",
    "                        score+=1  \n",
    "                        \n",
    "                    else:\n",
    "                        print(\"Sorry.3 chances over!!The answer is \",A[i])\n",
    "                        \n",
    "score=0 \n",
    "print(\"GUESS THE ANIMAL.THERE ARE 3 QUESTIONS.EACH QUESTION HAS 3 CHANCES TO ANSWER.\")\n",
    "Q=['Which bear lives at the North Pole? ',\n",
    "   'Which is the fastest land animal? ',\n",
    "   \"Which is the tallest animal? \"]\n",
    "A=['POLAR BEAR',\"Cheetah\",'giraffe'] \n",
    "\n",
    "for i in range(0,3):            \n",
    "        guess=input(Q[i])\n",
    "        animalquiz(guess)\n",
    "       \n",
    "print(\"Your score is \"+str(score))     "
   ]
  },
  {
   "cell_type": "code",
   "execution_count": null,
   "id": "da82d426",
   "metadata": {},
   "outputs": [],
   "source": []
  },
  {
   "cell_type": "code",
   "execution_count": null,
   "id": "5bb79123",
   "metadata": {},
   "outputs": [],
   "source": []
  }
 ],
 "metadata": {
  "kernelspec": {
   "display_name": "Python 3",
   "language": "python",
   "name": "python3"
  },
  "language_info": {
   "codemirror_mode": {
    "name": "ipython",
    "version": 3
   },
   "file_extension": ".py",
   "mimetype": "text/x-python",
   "name": "python",
   "nbconvert_exporter": "python",
   "pygments_lexer": "ipython3",
   "version": "3.8.8"
  }
 },
 "nbformat": 4,
 "nbformat_minor": 5
}
