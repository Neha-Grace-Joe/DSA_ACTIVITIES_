{
 "cells": [
  {
   "cell_type": "markdown",
   "metadata": {
    "id": "4z_Z-K1tlrS7"
   },
   "source": [
    "## 1. Complete the following code to find the area of an equilateral triangle. Output should be as displayed"
   ]
  },
  {
   "cell_type": "code",
   "execution_count": null,
   "metadata": {
    "id": "rP2qFD_SlrS_"
   },
   "outputs": [],
   "source": [
    "import math\n",
    "side = float(input(\"Enter the side of the equilateral triangle: \"))\n",
    "area = ((math.sqrt(3))/4)*pow(side,2)\n",
    "print(\"The area of the equilateral triangle is \",area)"
   ]
  },
  {
   "cell_type": "markdown",
   "metadata": {
    "id": "TjVKjIfclrTB"
   },
   "source": [
    "## 2. Write a program to count the number of each characters in a string"
   ]
  },
  {
   "cell_type": "code",
   "execution_count": 1,
   "metadata": {
    "id": "JY5seVUQlrTC"
   },
   "outputs": [
    {
     "name": "stdout",
     "output_type": "stream",
     "text": [
      "Enter the string: NEHGTYDTH\n",
      "Count of characters in the string NEHGTYDTH : {'N': 1, 'E': 1, 'H': 2, 'G': 1, 'T': 2, 'Y': 1, 'D': 1}\n"
     ]
    }
   ],
   "source": [
    "name=input(\"Enter the string: \")\n",
    "count={}\n",
    "for i in name:\n",
    "    if i in count:\n",
    "        count[i]+=1\n",
    "    else:\n",
    "        count[i]=1\n",
    "print(\"Count of characters in the string\",name,\":\",count)        \n",
    "    "
   ]
  },
  {
   "cell_type": "markdown",
   "metadata": {
    "id": "l3LCULfklrTD"
   },
   "source": [
    "## Write a program to find the area and perimeter of a rectangle using functions"
   ]
  },
  {
   "cell_type": "code",
   "execution_count": 2,
   "metadata": {
    "id": "8haQD8edlrTD"
   },
   "outputs": [
    {
     "name": "stdout",
     "output_type": "stream",
     "text": [
      "Enter the length: 6\n",
      "Enter the breadth: 8\n",
      "Area: 48.0\n",
      "Perimeter: 28.0\n"
     ]
    }
   ],
   "source": [
    "def area(l,b):\n",
    "    area=l*b\n",
    "    return area\n",
    "def perimeter(l,b):\n",
    "    perimeter=2*(l+b) \n",
    "    return perimeter\n",
    "l=float(input(\"Enter the length: \"))\n",
    "b=float(input(\"Enter the breadth: \"))\n",
    "print(\"Area:\",area(l,b))\n",
    "print(\"Perimeter:\",perimeter(l,b))"
   ]
  },
  {
   "cell_type": "markdown",
   "metadata": {
    "id": "JHK4ZdsflrTE"
   },
   "source": [
    "## 4. Write a program to print the fibonacci series till a specified number"
   ]
  },
  {
   "cell_type": "code",
   "execution_count": 3,
   "metadata": {
    "id": "LyBEj-4SlrTE"
   },
   "outputs": [
    {
     "name": "stdout",
     "output_type": "stream",
     "text": [
      "Enter the number upto fibonacci series required: 1200\n",
      "Fibonacci series upto  1200\n",
      "0\n",
      "1\n",
      "1\n",
      "2\n",
      "3\n",
      "5\n",
      "8\n",
      "13\n",
      "21\n",
      "34\n",
      "55\n",
      "89\n",
      "144\n",
      "233\n",
      "377\n",
      "610\n",
      "987\n"
     ]
    }
   ],
   "source": [
    "n=int(input(\"Enter the number upto fibonacci series required: \"))\n",
    "print('Fibonacci series upto ',n)\n",
    "a=0\n",
    "b=1\n",
    "print(a)\n",
    "print(b)\n",
    "for i in range(0,n):\n",
    "    c=a+b\n",
    "    if(c<n):\n",
    "        print(c)\n",
    "    a=b\n",
    "    b=c\n"
   ]
  },
  {
   "cell_type": "markdown",
   "metadata": {
    "id": "u4uBUcQKlrTE"
   },
   "source": [
    "## 5. Complete the following code to find the minimum of 3 number using cinditional statements. Output should be as displayed"
   ]
  },
  {
   "cell_type": "code",
   "execution_count": 1,
   "metadata": {
    "id": "XdZwrZjIlrTF"
   },
   "outputs": [
    {
     "name": "stdout",
     "output_type": "stream",
     "text": [
      "Enter three numbers followed by  : 2 6 8\n",
      "First number : 2\n",
      "Second number : 6\n",
      "Third number : 8\n",
      "2  is smallest\n"
     ]
    }
   ],
   "source": [
    "a,b,c =input(\"Enter three numbers followed by  : \").split()\n",
    "\n",
    "print(\"First number :\",a)\n",
    "print(\"Second number :\",b)\n",
    "print(\"Third number :\",c)\n",
    "if(a==b==c):\n",
    "    print(\"Entered numbers are equal!!!\")\n",
    "elif(a<b and a<c):\n",
    "    print(a,\" is smallest\")\n",
    "elif(b<a and b<c):\n",
    "    print(b,\" is smallest\")\n",
    "else:\n",
    "    print(c,\" is smallest\")"
   ]
  },
  {
   "cell_type": "markdown",
   "metadata": {
    "id": "aR_CnToWlrTG"
   },
   "source": [
    "## 6. Write a program to print star pyramind. The number of rows should be taken as input from the user"
   ]
  },
  {
   "cell_type": "code",
   "execution_count": 19,
   "metadata": {
    "id": "M37A-buplrTG"
   },
   "outputs": [
    {
     "name": "stdout",
     "output_type": "stream",
     "text": [
      "Enter the number of rows: 10\n",
      "                  * \n",
      "                 * * \n",
      "                * * * \n",
      "               * * * * \n",
      "              * * * * * \n",
      "             * * * * * * \n",
      "            * * * * * * * \n",
      "           * * * * * * * * \n",
      "          * * * * * * * * * \n",
      "         * * * * * * * * * * \n"
     ]
    }
   ],
   "source": [
    " def pattern(n):\n",
    "    k = 2 * n - 2\n",
    "    for i in range(0,n):\n",
    "           for j in range(0,k):\n",
    "               print(end=\" \")\n",
    "           k = k - 1\n",
    "           for j in range(0, i+1):\n",
    "                print(\"*\", end=\" \")\n",
    "           print(\"\\r\")\n",
    "n=int(input('Enter the number of rows: ')) \n",
    "pattern(n)"
   ]
  },
  {
   "cell_type": "code",
   "execution_count": null,
   "metadata": {
    "id": "tlY6aFWBlrTH"
   },
   "outputs": [],
   "source": [
    "## 7. Complete the following code to convert hour into seconds. Output should be as displayed"
   ]
  },
  {
   "cell_type": "code",
   "execution_count": null,
   "metadata": {
    "id": "YOZQFk7FlrTH"
   },
   "outputs": [],
   "source": [
    "def to_seconds(t):\n",
    "    t=t*60*60\n",
    "    return t\n",
    "time_in_hours=int(input('Enter the time in hours:'))\n",
    "print(time_in_hours ,\" Hour is equal to\" ,to_seconds(time_in_hours) ,\" Seconds\")"
   ]
  },
  {
   "cell_type": "markdown",
   "metadata": {
    "id": "CnYorNiLlrTI"
   },
   "source": [
    "## 8. Write a program to print multiplication table as below"
   ]
  },
  {
   "cell_type": "code",
   "execution_count": 4,
   "metadata": {
    "id": "dPQqDPuDlrTI"
   },
   "outputs": [
    {
     "name": "stdout",
     "output_type": "stream",
     "text": [
      "Enter the number:20\n",
      "Enter the limit:10\n",
      "1 * 20 = 20\n",
      "2 * 20 = 40\n",
      "3 * 20 = 60\n",
      "4 * 20 = 80\n",
      "5 * 20 = 100\n",
      "6 * 20 = 120\n",
      "7 * 20 = 140\n",
      "8 * 20 = 160\n",
      "9 * 20 = 180\n",
      "10 * 20 = 200\n"
     ]
    }
   ],
   "source": [
    "    def multiply(n):\n",
    "        for i in range (1,m+1):\n",
    "            print(i,'*',n,'=',i*n)\n",
    "    number=int(input(\"Enter the number:\"))\n",
    "    m=int(input(\"Enter the limit:\"))\n",
    "    multiply(number)"
   ]
  },
  {
   "cell_type": "markdown",
   "metadata": {
    "id": "Fiaez8iblrTI"
   },
   "source": [
    "## 9. Write a program to take your 5 favorite food as list and print each as 'I like Biriyani'"
   ]
  },
  {
   "cell_type": "code",
   "execution_count": null,
   "metadata": {
    "id": "39W1zFX7lrTJ"
   },
   "outputs": [],
   "source": [
    "first_list=[]\n",
    "print(\"Enter your 5 favorite foods:\")\n",
    "for i in range(0,5):\n",
    "    food=str(input())\n",
    "    first_list.append(food) \n",
    "print(\"I like \",first_list[0])\n",
    "print(\"I like \",first_list[1]) \n",
    "print(\"I like \",first_list[2])\n",
    "print(\"I like \",first_list[3])\n",
    "print(\"I like \",first_list[4])  \n"
   ]
  },
  {
   "cell_type": "markdown",
   "metadata": {
    "id": "3vlcDNNEP7d_"
   },
   "source": [
    "## 10. Find error(s) in the following code(if any) and rewrite code.\n",
    "\n"
   ]
  },
  {
   "cell_type": "code",
   "execution_count": null,
   "metadata": {
    "id": "coREkcY3P9sG"
   },
   "outputs": [],
   "source": [
    "x= int(“Enter value of x:”)\n",
    "for in range [0,10]:\n",
    "     if x=y\n",
    "          print(\"They are equal\")\n",
    "     else:\n",
    "         Print( \"They are unequal\")\n"
   ]
  },
  {
   "cell_type": "code",
   "execution_count": 2,
   "metadata": {},
   "outputs": [
    {
     "name": "stdout",
     "output_type": "stream",
     "text": [
      "Enter value of x:6\n",
      "6 and 0  are unequal\n",
      "6 and 1  are unequal\n",
      "6 and 2  are unequal\n",
      "6 and 3  are unequal\n",
      "6 and 4  are unequal\n",
      "6 and 5  are unequal\n",
      "6 and 6  are equal\n"
     ]
    }
   ],
   "source": [
    "x=int(input(\"Enter value of x:\"))\n",
    "for y in range(0,10):\n",
    "    if x==y:\n",
    "        print(x,\"and\",y,\" are equal\")\n",
    "        break\n",
    "    else:\n",
    "        print( x, \"and\",y,\" are unequal\")"
   ]
  },
  {
   "cell_type": "code",
   "execution_count": null,
   "metadata": {},
   "outputs": [],
   "source": []
  },
  {
   "cell_type": "code",
   "execution_count": null,
   "metadata": {},
   "outputs": [],
   "source": []
  },
  {
   "cell_type": "code",
   "execution_count": null,
   "metadata": {},
   "outputs": [],
   "source": []
  },
  {
   "cell_type": "code",
   "execution_count": null,
   "metadata": {},
   "outputs": [],
   "source": []
  },
  {
   "cell_type": "code",
   "execution_count": null,
   "metadata": {},
   "outputs": [],
   "source": []
  },
  {
   "cell_type": "code",
   "execution_count": null,
   "metadata": {},
   "outputs": [],
   "source": []
  }
 ],
 "metadata": {
  "colab": {
   "collapsed_sections": [],
   "name": "Q&A activity student file.ipynb",
   "provenance": []
  },
  "kernelspec": {
   "display_name": "Python 3",
   "language": "python",
   "name": "python3"
  },
  "language_info": {
   "codemirror_mode": {
    "name": "ipython",
    "version": 3
   },
   "file_extension": ".py",
   "mimetype": "text/x-python",
   "name": "python",
   "nbconvert_exporter": "python",
   "pygments_lexer": "ipython3",
   "version": "3.8.8"
  }
 },
 "nbformat": 4,
 "nbformat_minor": 1
}
