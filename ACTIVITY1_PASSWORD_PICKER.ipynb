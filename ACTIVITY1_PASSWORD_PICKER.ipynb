{
 "cells": [
  {
   "cell_type": "code",
   "execution_count": 4,
   "id": "b24282ff",
   "metadata": {},
   "outputs": [
    {
     "name": "stdout",
     "output_type": "stream",
     "text": [
      "New password is: Hugeweek80*\n"
     ]
    }
   ],
   "source": [
    "\n",
    "\n",
    "import random\n",
    "\n",
    "adjectives=['Charming','Cruel','Fantastic','Gentle','Huge','Perfect','Rough','Sharp','good','adorable','adventurous','aggressive',\n",
    "'blushing','bored','brainy','courageous','crazy','creepy','crowded','cruel','curious','cute','dangerous','dark','dead','defeated','defiant']\n",
    "noun=['time','person','year','way','day','thing','man','world','part','child','eye','woman','place','work','week','case','point','government','company','number','group','proble','fact']\n",
    "characters=['!','@','#'',$','%','^','&','*','_','?','/',',','+']\n",
    "adj=random.choice(adjectives)\n",
    "nou=random.choice(noun)\n",
    "num=random.randint(0,100)\n",
    "chars=random.choice(characters)\n",
    "print(\"New password is:\",str(adj)+str(nou)+str(num)+str(chars))\n"
   ]
  },
  {
   "cell_type": "code",
   "execution_count": null,
   "id": "404f5568",
   "metadata": {},
   "outputs": [],
   "source": []
  }
 ],
 "metadata": {
  "kernelspec": {
   "display_name": "Python 3",
   "language": "python",
   "name": "python3"
  },
  "language_info": {
   "codemirror_mode": {
    "name": "ipython",
    "version": 3
   },
   "file_extension": ".py",
   "mimetype": "text/x-python",
   "name": "python",
   "nbconvert_exporter": "python",
   "pygments_lexer": "ipython3",
   "version": "3.8.8"
  }
 },
 "nbformat": 4,
 "nbformat_minor": 5
}
